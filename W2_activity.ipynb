{
  "nbformat": 4,
  "nbformat_minor": 0,
  "metadata": {
    "colab": {
      "provenance": [],
      "authorship_tag": "ABX9TyPdE67GdBX4srG5xUWWYI0f",
      "include_colab_link": true
    },
    "kernelspec": {
      "name": "python3",
      "display_name": "Python 3"
    },
    "language_info": {
      "name": "python"
    }
  },
  "cells": [
    {
      "cell_type": "markdown",
      "metadata": {
        "id": "view-in-github",
        "colab_type": "text"
      },
      "source": [
        "<a href=\"https://colab.research.google.com/github/ybing86-lang/MSSP6070/blob/main/W2_activity.ipynb\" target=\"_parent\"><img src=\"https://colab.research.google.com/assets/colab-badge.svg\" alt=\"Open In Colab\"/></a>"
      ]
    },
    {
      "cell_type": "code",
      "execution_count": null,
      "metadata": {
        "id": "QN196we78spx",
        "colab": {
          "base_uri": "https://localhost:8080/"
        },
        "outputId": "98254fbd-9481-46d8-a9da-040dc9b5c0a7"
      },
      "outputs": [
        {
          "output_type": "stream",
          "name": "stdout",
          "text": [
            "spam list_1: [2, 4, 6, 8, 10]\n",
            "spam list_2: [2, 4, 'hello', 8, 10]\n"
          ]
        }
      ],
      "source": [
        "spam = [2, 4, 6, 8, 10]\n",
        "print(\"spam list_1:\", spam)\n",
        "spam[2] = 'hello'\n",
        "print(\"spam list_2:\", spam)"
      ]
    },
    {
      "cell_type": "code",
      "source": [
        "letters = ['a', 'b', 'c', 'd']\n",
        "print(\"letters list:\", letters)\n",
        "result_b = letters[int(int('3'*2)//11)]\n",
        "print(\"letters[int(int('3'*2)//11)] =\", result_b)\n",
        "# Note: '3'*2 = '33', int('33') = 33, 33//11 = 3, int(3) = 3, so letters[3] = 'd'\n",
        "result_c = letters[-1]\n",
        "print(\"letters[-1] =\", result_c)\n",
        "# Note: counting from the right side, -1 is the last element in the list, which is 'd'\n",
        "result_d = letters[:2]\n",
        "print(\"letters[:2] =\", result_d)\n",
        "# Note: [:2] is a slice from the beginning up to (not including) 2, which is ['a', 'b']"
      ],
      "metadata": {
        "colab": {
          "base_uri": "https://localhost:8080/"
        },
        "id": "9bEALiIcPiTy",
        "outputId": "18bef9b6-f6f5-4563-886b-ded250daafca"
      },
      "execution_count": null,
      "outputs": [
        {
          "output_type": "stream",
          "name": "stdout",
          "text": [
            "letters list: ['a', 'b', 'c', 'd']\n",
            "letters[int(int('3'*2)//11)] = d\n",
            "letters[-1] = d\n",
            "letters[:2] = ['a', 'b']\n"
          ]
        }
      ]
    },
    {
      "cell_type": "code",
      "source": [
        "my_list = [1,2,3,4]\n",
        "print(\"Original list:\", my_list)\n",
        "my_tuple = tuple(my_list)\n",
        "print(\"Converted to tuple:\", my_tuple)\n",
        "new_list=list(my_tuple)\n",
        "print(\"Converted back to list:\", new_list)\n"
      ],
      "metadata": {
        "id": "poS0iL5F9OyD",
        "colab": {
          "base_uri": "https://localhost:8080/"
        },
        "outputId": "d24acfcd-e270-4b59-f286-e6d87b2742f8"
      },
      "execution_count": null,
      "outputs": [
        {
          "output_type": "stream",
          "name": "stdout",
          "text": [
            "Original list: [1, 2, 3, 4]\n",
            "Converted to tuple: (1, 2, 3, 4)\n",
            "Converted back to list: [1, 2, 3, 4]\n"
          ]
        }
      ]
    },
    {
      "cell_type": "code",
      "source": [
        "spam = ['apples', 'bananas', 'tofu', 'cats']\n",
        "def comma_code(spam):\n",
        "    if len(spam) == 0:\n",
        "        return ''\n",
        "    elif len(spam) == 1:\n",
        "        return spam[0]\n",
        "    else:\n",
        "        return ', '.join(spam[:-1]) + ', and ' + spam[-1]\n",
        "\n",
        "#test:\n",
        "spam = ['apples', 'bananas', 'tofu', 'cats']\n",
        "print(comma_code([]))\n",
        "print(comma_code(['apples']))\n",
        "print(comma_code(['apples','bananas']))\n",
        "print(comma_code(spam))"
      ],
      "metadata": {
        "id": "XCRAmv0uQnvb",
        "colab": {
          "base_uri": "https://localhost:8080/"
        },
        "outputId": "9711e02e-056a-4a74-930c-04230c67181d"
      },
      "execution_count": 23,
      "outputs": [
        {
          "output_type": "stream",
          "name": "stdout",
          "text": [
            "\n",
            "apples\n",
            "apples, and bananas\n",
            "apples, bananas, tofu, and cats\n"
          ]
        }
      ]
    },
    {
      "cell_type": "code",
      "source": [],
      "metadata": {
        "id": "Rlds-FV6wb9T"
      },
      "execution_count": null,
      "outputs": []
    },
    {
      "cell_type": "markdown",
      "source": [],
      "metadata": {
        "id": "o_ssuXrxqRmn"
      }
    }
  ]
}