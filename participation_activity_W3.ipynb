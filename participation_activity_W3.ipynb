{
  "nbformat": 4,
  "nbformat_minor": 0,
  "metadata": {
    "colab": {
      "provenance": [],
      "authorship_tag": "ABX9TyPFsMkoLkwTxr6Y7aJ7SYbz",
      "include_colab_link": true
    },
    "kernelspec": {
      "name": "python3",
      "display_name": "Python 3"
    },
    "language_info": {
      "name": "python"
    }
  },
  "cells": [
    {
      "cell_type": "markdown",
      "metadata": {
        "id": "view-in-github",
        "colab_type": "text"
      },
      "source": [
        "<a href=\"https://colab.research.google.com/github/ybing86-lang/MSSP6070/blob/main/participation_activity_W3.ipynb\" target=\"_parent\"><img src=\"https://colab.research.google.com/assets/colab-badge.svg\" alt=\"Open In Colab\"/></a>"
      ]
    },
    {
      "cell_type": "code",
      "execution_count": null,
      "metadata": {
        "id": "dyZmqukozdnM"
      },
      "outputs": [],
      "source": [
        "#3a: The code in a function executes when the function is called, not defined."
      ]
    },
    {
      "cell_type": "code",
      "source": [
        "#3b: There is only one global scope, and a local scope is created whenever a function is called."
      ],
      "metadata": {
        "id": "kqPlm4Ox1JXc"
      },
      "execution_count": null,
      "outputs": []
    },
    {
      "cell_type": "code",
      "source": [
        "#3c： The local scope for that function call is destroyed, and all its variables are forgotten when a function returns."
      ],
      "metadata": {
        "id": "cniu63VU1cRq"
      },
      "execution_count": null,
      "outputs": []
    },
    {
      "cell_type": "code",
      "source": [
        "#3d： Using a try and except statement could handle errors and prevent the program from crashing."
      ],
      "metadata": {
        "id": "FQC98WFP19_C"
      },
      "execution_count": null,
      "outputs": []
    },
    {
      "cell_type": "code",
      "source": [
        "def collatz_sequence(number): # Added colon here\n",
        "  if number % 2 == 0:  #the number is even\n",
        "    return number // 2\n",
        "  if number % 2 == 1:  #the number is odd\n",
        "    return 3 * number + 1\n",
        "\n",
        "try:\n",
        "  number = int(input(\"Please enter a integer: \"))  #convert to integer\n",
        "  while number != 1:                 #generate sequence until it  equals to 1\n",
        "    number = collatz_sequence(number)\n",
        "    print(number)\n",
        "except ValueError:\n",
        "  print(\"Invalid input. Please enter a positive integer.\")"
      ],
      "metadata": {
        "colab": {
          "base_uri": "https://localhost:8080/"
        },
        "id": "P3JOxWVr7Uq5",
        "outputId": "416863be-5021-44d7-d025-d39efb74050d"
      },
      "execution_count": 3,
      "outputs": [
        {
          "output_type": "stream",
          "name": "stdout",
          "text": [
            "Please enter a integer: 99\n",
            "298\n",
            "149\n",
            "448\n",
            "224\n",
            "112\n",
            "56\n",
            "28\n",
            "14\n",
            "7\n",
            "22\n",
            "11\n",
            "34\n",
            "17\n",
            "52\n",
            "26\n",
            "13\n",
            "40\n",
            "20\n",
            "10\n",
            "5\n",
            "16\n",
            "8\n",
            "4\n",
            "2\n",
            "1\n"
          ]
        }
      ]
    }
  ]
}